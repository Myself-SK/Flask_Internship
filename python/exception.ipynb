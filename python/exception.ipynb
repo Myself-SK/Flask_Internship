{
 "cells": [
  {
   "cell_type": "code",
   "execution_count": null,
   "metadata": {},
   "outputs": [],
   "source": [
    "# Exception Handling:\n",
    "    # try\n",
    "    # except\n",
    "    # finally\n",
    "    # raise"
   ]
  },
  {
   "cell_type": "code",
   "execution_count": null,
   "metadata": {},
   "outputs": [
    {
     "name": "stdout",
     "output_type": "stream",
     "text": [
      "Error has Occured\n",
      "2.0\n"
     ]
    }
   ],
   "source": [
    "a=int(input())\n",
    "b=int(input())\n",
    "l = [1,2,3]\n",
    "div=0\n",
    "try:\n",
    "    div = a/b\n",
    "    print(l[10])\n",
    "except:\n",
    "    print(\"Error has Occured\")\n",
    "print(div)"
   ]
  },
  {
   "cell_type": "code",
   "execution_count": 10,
   "metadata": {},
   "outputs": [
    {
     "name": "stdout",
     "output_type": "stream",
     "text": [
      "Error has Occured [Errno 2] No such file or directory: 'New.txt'\n"
     ]
    }
   ],
   "source": [
    "l=[1,2,3]\n",
    "d={1:'One',2:'Two'}\n",
    "try:\n",
    "    f = open('New.txt')\n",
    "except Exception as e:\n",
    "    print(\"Error has Occured\",e)"
   ]
  },
  {
   "cell_type": "code",
   "execution_count": 14,
   "metadata": {},
   "outputs": [
    {
     "name": "stdout",
     "output_type": "stream",
     "text": [
      "Invalid Index\n"
     ]
    }
   ],
   "source": [
    "l=[1,2,3]\n",
    "d={1:'One',2:'Two'}\n",
    "try:\n",
    "    print(l[4])\n",
    "except IndexError:\n",
    "    print(\"Invalid Index\")\n",
    "except KeyError:\n",
    "    print(\"Key Error\")"
   ]
  },
  {
   "cell_type": "code",
   "execution_count": 19,
   "metadata": {},
   "outputs": [
    {
     "name": "stdout",
     "output_type": "stream",
     "text": [
      "(1146, \"Table 'world.cities' doesn't exist\")\n"
     ]
    }
   ],
   "source": [
    "import pymysql\n",
    "\n",
    "con = pymysql.connect(host='localhost',user='root',passwd='1356',database='world')\n",
    "cur = con.cursor()\n",
    "\n",
    "try:\n",
    "    q = \"select * from cities\"\n",
    "    cur.execute(q)\n",
    "    data = cur.fetchall()\n",
    "except Exception as e:\n",
    "    print(e)\n",
    "finally:\n",
    "    con.close()\n",
    "\n"
   ]
  },
  {
   "cell_type": "code",
   "execution_count": 28,
   "metadata": {},
   "outputs": [
    {
     "name": "stdout",
     "output_type": "stream",
     "text": [
      "Octal to Decimal Conversion App\n",
      "19\n",
      "Invalid Octal Number\n"
     ]
    }
   ],
   "source": [
    "print(\"Octal to Decimal Conversion App\")\n",
    "n=input(\"Enter value between 0 - 7\")\n",
    "print(n)\n",
    "try:\n",
    "    print(int(n,8))\n",
    "except:\n",
    "    try:\n",
    "        if '9' in n or '8' in n:\n",
    "            raise Exception(\"Invalid Octal Number\")\n",
    "    except Exception as e:\n",
    "        print(e)\n"
   ]
  },
  {
   "cell_type": "code",
   "execution_count": null,
   "metadata": {},
   "outputs": [],
   "source": []
  }
 ],
 "metadata": {
  "kernelspec": {
   "display_name": "base",
   "language": "python",
   "name": "python3"
  },
  "language_info": {
   "codemirror_mode": {
    "name": "ipython",
    "version": 3
   },
   "file_extension": ".py",
   "mimetype": "text/x-python",
   "name": "python",
   "nbconvert_exporter": "python",
   "pygments_lexer": "ipython3",
   "version": "3.12.7"
  }
 },
 "nbformat": 4,
 "nbformat_minor": 2
}
