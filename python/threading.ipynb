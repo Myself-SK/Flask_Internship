{
 "cells": [
  {
   "cell_type": "code",
   "execution_count": null,
   "metadata": {},
   "outputs": [],
   "source": [
    "# Threading:"
   ]
  },
  {
   "cell_type": "code",
   "execution_count": 3,
   "metadata": {},
   "outputs": [],
   "source": [
    "import time \n",
    "def sleep(name):\n",
    "    print(name,\"Going to Sleep\")\n",
    "    time.sleep(5)\n",
    "    print(name,\"Awake\")"
   ]
  },
  {
   "cell_type": "code",
   "execution_count": 7,
   "metadata": {},
   "outputs": [
    {
     "name": "stdout",
     "output_type": "stream",
     "text": [
      "Koushik Going to Sleep\n",
      "Charu Going to Sleep\n",
      "Sanjay Going to Sleep\n",
      "Siddharth Going to Sleep\n"
     ]
    },
    {
     "name": "stdout",
     "output_type": "stream",
     "text": [
      "KoushikCharu Awake\n",
      "Siddharth Awake\n",
      " Awake\n",
      "Sanjay Awake\n"
     ]
    }
   ],
   "source": [
    "from threading import Thread\n",
    "l = [\"Koushik\",\"Charu\",\"Sanjay\",\"Siddharth\"]\n",
    "for i in l:\n",
    "    t = Thread(target=lambda: sleep(i))\n",
    "    t.start()"
   ]
  },
  {
   "cell_type": "code",
   "execution_count": null,
   "metadata": {},
   "outputs": [],
   "source": []
  }
 ],
 "metadata": {
  "kernelspec": {
   "display_name": "base",
   "language": "python",
   "name": "python3"
  },
  "language_info": {
   "codemirror_mode": {
    "name": "ipython",
    "version": 3
   },
   "file_extension": ".py",
   "mimetype": "text/x-python",
   "name": "python",
   "nbconvert_exporter": "python",
   "pygments_lexer": "ipython3",
   "version": "3.12.7"
  }
 },
 "nbformat": 4,
 "nbformat_minor": 2
}
