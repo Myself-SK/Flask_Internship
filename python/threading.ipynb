{
 "cells": [
  {
   "cell_type": "code",
   "execution_count": null,
   "metadata": {},
   "outputs": [],
   "source": [
    "# Threading:"
   ]
  },
  {
   "cell_type": "code",
   "execution_count": 3,
   "metadata": {},
   "outputs": [],
   "source": [
    "import time \n",
    "def sleep(name):\n",
    "    print(name,\"Going to Sleep\")\n",
    "    time.sleep(5)\n",
    "    print(name,\"Awake\")"
   ]
  },
  {
   "cell_type": "code",
   "execution_count": 7,
   "metadata": {},
   "outputs": [
    {
     "name": "stdout",
     "output_type": "stream",
     "text": [
      "Koushik Going to Sleep\n",
      "Charu Going to Sleep\n",
      "Sanjay Going to Sleep\n",
      "Siddharth Going to Sleep\n"
     ]
    },
    {
     "name": "stdout",
     "output_type": "stream",
     "text": [
      "KoushikCharu Awake\n",
      "Siddharth Awake\n",
      " Awake\n",
      "Sanjay Awake\n"
     ]
    }
   ],
   "source": [
    "from threading import Thread\n",
    "l = [\"Koushik\",\"Charu\",\"Sanjay\",\"Siddharth\"]\n",
    "for i in l:\n",
    "    t = Thread(target=lambda: sleep(i))\n",
    "    t.start()"
   ]
  },
  {
   "cell_type": "code",
   "execution_count": 4,
   "metadata": {},
   "outputs": [
    {
     "name": "stdout",
     "output_type": "stream",
     "text": [
      "Process Initiated\n",
      "A is going to sleep\n",
      "B is going to sleep\n",
      "C is going to sleep\n",
      "A is awake\n",
      "D is going to sleep\n",
      "B is awake\n",
      "E is going to sleep\n",
      "C is awake\n",
      "F is going to sleep\n",
      "D is awake\n",
      "F is awake\n",
      "E is awake\n",
      "Process Completed\n"
     ]
    }
   ],
   "source": [
    "from concurrent.futures import ThreadPoolExecutor,as_completed\n",
    "import time\n",
    "def sleep(name):\n",
    "    print(f\"{name} is going to sleep\")\n",
    "    time.sleep(5)\n",
    "    print(f\"{name} is awake\")\n",
    "    return(f\"{name} is awake\")\n",
    "\n",
    "def process_batches(batch):\n",
    "    print(f'Process Initiated')\n",
    "    with ThreadPoolExecutor(max_workers=3) as executor:\n",
    "        futures = [executor.submit(sleep, item) for item in batch]\n",
    "        results = []\n",
    "        for future in as_completed(futures):\n",
    "            try:\n",
    "                result = future.result()\n",
    "            except Exception as e:\n",
    "                print(e)\n",
    "                print(f\"Error processing item: {e}\")\n",
    "    print(f'Process Completed')\n",
    "\n",
    "l=['A','B','C','D','E','F']\n",
    "process_batches(l)"
   ]
  },
  {
   "cell_type": "code",
   "execution_count": null,
   "metadata": {},
   "outputs": [],
   "source": []
  }
 ],
 "metadata": {
  "kernelspec": {
   "display_name": "base",
   "language": "python",
   "name": "python3"
  },
  "language_info": {
   "codemirror_mode": {
    "name": "ipython",
    "version": 3
   },
   "file_extension": ".py",
   "mimetype": "text/x-python",
   "name": "python",
   "nbconvert_exporter": "python",
   "pygments_lexer": "ipython3",
   "version": "3.12.7"
  }
 },
 "nbformat": 4,
 "nbformat_minor": 2
}
