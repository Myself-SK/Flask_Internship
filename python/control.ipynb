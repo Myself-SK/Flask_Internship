{
 "cells": [
  {
   "cell_type": "code",
   "execution_count": null,
   "metadata": {},
   "outputs": [],
   "source": [
    "# Control:\n",
    "    # break\n",
    "    # continue\n",
    "    # pass"
   ]
  },
  {
   "cell_type": "code",
   "execution_count": 1,
   "metadata": {},
   "outputs": [
    {
     "name": "stdout",
     "output_type": "stream",
     "text": [
      "0\n",
      "1\n",
      "2\n",
      "3\n",
      "4\n"
     ]
    }
   ],
   "source": [
    "# break\n",
    "for i in range(10):\n",
    "    if i==5:\n",
    "        break\n",
    "    print(i)"
   ]
  },
  {
   "cell_type": "code",
   "execution_count": 18,
   "metadata": {},
   "outputs": [
    {
     "name": "stdout",
     "output_type": "stream",
     "text": [
      "Not a prime\n",
      "Its a Prime\n"
     ]
    }
   ],
   "source": [
    "n = int(input(\"enter a number\"))\n",
    "for i in range(2,n):\n",
    "    if n%i==0:\n",
    "        print(\"Not a prime\")\n",
    "else:\n",
    "    print(\"Its a Prime\")"
   ]
  },
  {
   "cell_type": "code",
   "execution_count": 8,
   "metadata": {},
   "outputs": [
    {
     "name": "stdout",
     "output_type": "stream",
     "text": [
      "0\n",
      "1\n",
      "2\n",
      "3\n",
      "4\n",
      "6\n",
      "7\n",
      "8\n",
      "9\n"
     ]
    }
   ],
   "source": [
    "# continue\n",
    "for i in range(10):\n",
    "    if i==5:\n",
    "        continue\n",
    "    print(i)"
   ]
  },
  {
   "cell_type": "code",
   "execution_count": 10,
   "metadata": {},
   "outputs": [
    {
     "name": "stdout",
     "output_type": "stream",
     "text": [
      "0\n",
      "0.5\n",
      "2\n",
      "1.5\n",
      "4\n",
      "2.5\n",
      "6\n",
      "3.5\n",
      "8\n",
      "4.5\n"
     ]
    }
   ],
   "source": [
    "# pass\n",
    "for i in range(10):\n",
    "    if i%2!=0:\n",
    "        print(i/2)\n",
    "    if i%2==0:\n",
    "        pass\n",
    "        print(i)"
   ]
  },
  {
   "cell_type": "code",
   "execution_count": 5,
   "metadata": {},
   "outputs": [
    {
     "name": "stdout",
     "output_type": "stream",
     "text": [
      " prime\n"
     ]
    }
   ],
   "source": [
    "n=int(input(\"enter value\"))\n",
    "for i in range(2,n):\n",
    "    if n%i==0:\n",
    "        print(\"not prime\")\n",
    "        break\n",
    "else:\n",
    "        print(\" prime\")"
   ]
  },
  {
   "cell_type": "code",
   "execution_count": 35,
   "metadata": {},
   "outputs": [
    {
     "name": "stdout",
     "output_type": "stream",
     "text": [
      "0\n",
      "* \n",
      "1\n",
      "* * \n",
      "2\n",
      "* * * \n",
      "3\n",
      "* * * * \n"
     ]
    }
   ],
   "source": [
    "for i in range(4):\n",
    "     print(i)\n",
    "     for j in range(i+1):\n",
    "          print(\"*\",end=\" \")\n",
    "     print()\n",
    "\n",
    "      "
   ]
  },
  {
   "cell_type": "code",
   "execution_count": 47,
   "metadata": {},
   "outputs": [
    {
     "name": "stdout",
     "output_type": "stream",
     "text": [
      "0\n",
      "* * * * \n",
      "1\n",
      "* * * \n",
      "2\n",
      "* * \n",
      "3\n",
      "* \n"
     ]
    }
   ],
   "source": [
    "for i in range(4):\n",
    "     print(i)\n",
    "     for j in range(4-i):\n",
    "          print(\"*\",end=\" \")\n",
    "     print()\n"
   ]
  },
  {
   "cell_type": "code",
   "execution_count": 74,
   "metadata": {},
   "outputs": [
    {
     "name": "stdout",
     "output_type": "stream",
     "text": [
      "\n",
      "\n",
      "* \n",
      "* * \n",
      "* * * \n"
     ]
    }
   ],
   "source": [
    "for i in range(5):\n",
    "    for d in range(i-1):\n",
    "        print(\"*\",end=\" \")\n",
    "    print()    "
   ]
  },
  {
   "cell_type": "code",
   "execution_count": null,
   "metadata": {},
   "outputs": [],
   "source": []
  }
 ],
 "metadata": {
  "kernelspec": {
   "display_name": "base",
   "language": "python",
   "name": "python3"
  },
  "language_info": {
   "codemirror_mode": {
    "name": "ipython",
    "version": 3
   },
   "file_extension": ".py",
   "mimetype": "text/x-python",
   "name": "python",
   "nbconvert_exporter": "python",
   "pygments_lexer": "ipython3",
   "version": "3.12.7"
  }
 },
 "nbformat": 4,
 "nbformat_minor": 2
}
