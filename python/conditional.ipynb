{
 "cells": [
  {
   "cell_type": "code",
   "execution_count": null,
   "metadata": {},
   "outputs": [],
   "source": [
    "# Conditional Statements:\n",
    "# if, else, elif, nested if"
   ]
  },
  {
   "cell_type": "code",
   "execution_count": null,
   "metadata": {},
   "outputs": [],
   "source": [
    "# if Syntax\n",
    "# if cond:\n",
    "#     statements\n",
    "#     if cond:statement"
   ]
  },
  {
   "cell_type": "code",
   "execution_count": 6,
   "metadata": {},
   "outputs": [],
   "source": [
    "a=100\n",
    "b=100\n",
    "if a>b:\n",
    "    print(\"A is Greater\")\n",
    "if b>a:print(\"B is Greater\")"
   ]
  },
  {
   "cell_type": "code",
   "execution_count": 7,
   "metadata": {},
   "outputs": [
    {
     "name": "stdout",
     "output_type": "stream",
     "text": [
      "B is Greater\n"
     ]
    }
   ],
   "source": [
    "a=100\n",
    "b=100\n",
    "if a>b:\n",
    "    print(\"A is Greater\")\n",
    "else:\n",
    "    print(\"B is Greater\")"
   ]
  },
  {
   "cell_type": "code",
   "execution_count": 11,
   "metadata": {},
   "outputs": [
    {
     "name": "stdout",
     "output_type": "stream",
     "text": [
      "B is Greater\n"
     ]
    }
   ],
   "source": [
    "# Nested If\n",
    "a=100\n",
    "b=200\n",
    "c=30\n",
    "if a>b:\n",
    "    if a>c:\n",
    "        print(\"A is Greater\")\n",
    "    else:\n",
    "        print(\"C is Greater\")\n",
    "else:\n",
    "    if b>c:\n",
    "        print(\"B is Greater\")\n",
    "    else:\n",
    "        print(\"C is Greater\")"
   ]
  },
  {
   "cell_type": "code",
   "execution_count": 12,
   "metadata": {},
   "outputs": [
    {
     "name": "stdout",
     "output_type": "stream",
     "text": [
      "A>=10\n"
     ]
    }
   ],
   "source": [
    "# if-elif ladder\n",
    "a=10\n",
    "if a>=10:\n",
    "    print(\"A>=10\")\n",
    "elif a<=10:\n",
    "    print(\"A<=10\")\n",
    "elif a==10:\n",
    "    print(\"A==10\")\n",
    "else:\n",
    "    print(\"A!=10\")"
   ]
  },
  {
   "cell_type": "code",
   "execution_count": null,
   "metadata": {},
   "outputs": [],
   "source": [
    "# multiple if ladder\n",
    "a=10\n",
    "if a>=10:\n",
    "    print(\"A>=10\")\n",
    "if a<=10:\n",
    "    print(\"A<=10\")\n",
    "if a==10:\n",
    "    print(\"A==10\")\n",
    "else:\n",
    "    print(\"A!=10\")"
   ]
  },
  {
   "cell_type": "code",
   "execution_count": 21,
   "metadata": {},
   "outputs": [
    {
     "name": "stdout",
     "output_type": "stream",
     "text": [
      "enter total no of products\n",
      "1000\n",
      "enter price per product\n",
      "10\n",
      "total = 10000\n",
      "discount = 1000.0\n",
      "net = 9000.0\n"
     ]
    }
   ],
   "source": [
    "# enter total no of products:\n",
    "# 500\n",
    "# enter price per product:\n",
    "# 10\n",
    "# total: 5000\n",
    "# discount: 500\n",
    "# net: 4500\n",
    "\n",
    "prod = int(input(\"enter total no of products\"))\n",
    "price = int(input(\"enter price per product\"))\n",
    "total = prod*price\n",
    "dis=0\n",
    "if total>=2500:\n",
    "    dis = total*0.1\n",
    "net = total-dis\n",
    "print(\"total =\",total)    \n",
    "print(\"discount =\",dis)    \n",
    "print(\"net =\",net)    "
   ]
  },
  {
   "cell_type": "code",
   "execution_count": 25,
   "metadata": {},
   "outputs": [
    {
     "name": "stdout",
     "output_type": "stream",
     "text": [
      "325\n",
      "1025\n"
     ]
    }
   ],
   "source": [
    "# <100 = units*2\n",
    "# 100-250 = 100*2,next 3\n",
    "# 250-500 = 100*2,150*3,next 5\n",
    "# 500-750 = 100*2,150*3,250*5, next 7\n",
    "# >=750 =00*2,150*3,250*5,250*7,10\n",
    "\n",
    "units = int(input(\"Enter units consumned\"))\n",
    "bill = 0\n",
    "print(units)\n",
    "if units<100:\n",
    "    bill = units*2\n",
    "elif units>=100 and units<250:\n",
    "    bill = (100*2)+((units-100)*3)\n",
    "elif units>=250 and units<500:\n",
    "    bill = (100*2)+(150*3)+((units-250)*5)\n",
    "elif units>=500 and units<750:\n",
    "    bill = (100*2)+(150*3)+(250*5)+((units-500)*7)\n",
    "else:\n",
    "    bill = (100*2)+(150*3)+(250*5)+(250*7)+((units-750)*10)\n",
    "print(bill)"
   ]
  },
  {
   "cell_type": "code",
   "execution_count": 24,
   "metadata": {},
   "outputs": [
    {
     "data": {
      "text/plain": [
       "375"
      ]
     },
     "execution_count": 24,
     "metadata": {},
     "output_type": "execute_result"
    }
   ],
   "source": [
    "(325-250)*5"
   ]
  },
  {
   "cell_type": "code",
   "execution_count": null,
   "metadata": {},
   "outputs": [],
   "source": []
  }
 ],
 "metadata": {
  "kernelspec": {
   "display_name": "base",
   "language": "python",
   "name": "python3"
  },
  "language_info": {
   "codemirror_mode": {
    "name": "ipython",
    "version": 3
   },
   "file_extension": ".py",
   "mimetype": "text/x-python",
   "name": "python",
   "nbconvert_exporter": "python",
   "pygments_lexer": "ipython3",
   "version": "3.12.7"
  }
 },
 "nbformat": 4,
 "nbformat_minor": 2
}
