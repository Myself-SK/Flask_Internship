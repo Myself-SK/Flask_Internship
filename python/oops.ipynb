{
 "cells": [
  {
   "cell_type": "code",
   "execution_count": null,
   "metadata": {},
   "outputs": [],
   "source": [
    "# OOPS Object Oriented Programming Structure:\n",
    "# Class\n",
    "# Objects\n",
    "# Constructors\n",
    "# Inheritance"
   ]
  },
  {
   "cell_type": "code",
   "execution_count": null,
   "metadata": {},
   "outputs": [],
   "source": [
    "# Syntax:\n",
    "# class class_name:\n",
    "# attributes\n",
    "# functions"
   ]
  },
  {
   "cell_type": "code",
   "execution_count": 3,
   "metadata": {},
   "outputs": [],
   "source": [
    "class Dog:\n",
    "    name=None\n",
    "    noOfLegs=None\n",
    "    earColor=None\n",
    "    skinColor=None\n",
    "    def create_dog(self):\n",
    "        self.name = input()\n",
    "        self.noOfLegs = int(input())\n",
    "        self.earColor = input()\n",
    "        self.skinColor = input()\n",
    "    def bark(self):\n",
    "        print(self.name,\" is Barking\")\n"
   ]
  },
  {
   "cell_type": "code",
   "execution_count": 5,
   "metadata": {},
   "outputs": [],
   "source": [
    "d = Dog()\n",
    "d.create_dog()"
   ]
  },
  {
   "cell_type": "code",
   "execution_count": 6,
   "metadata": {},
   "outputs": [
    {
     "name": "stdout",
     "output_type": "stream",
     "text": [
      "nayi  is Barking\n"
     ]
    }
   ],
   "source": [
    "d.bark()"
   ]
  },
  {
   "cell_type": "code",
   "execution_count": 7,
   "metadata": {},
   "outputs": [],
   "source": [
    "import random\n",
    "class sim:\n",
    "    name=None\n",
    "    mobile=None\n",
    "    identity_proof = None\n",
    "    balance =None\n",
    "\n",
    "    def activate(self):\n",
    "        self.name = input(\"Enter your Name\")\n",
    "        self.identity_proof = input(\"enter your identity proof\")\n",
    "        self.mobile = random.randint(6000000000,9999999999)\n",
    "        self.balance = 50\n",
    "    \n",
    "    def viewDetails(self):\n",
    "        print(\"Name :\",self.name)\n",
    "        print(\"Number:\",self.mobile)\n",
    "        print(\"Balance :\",self.balance)"
   ]
  },
  {
   "cell_type": "code",
   "execution_count": 8,
   "metadata": {},
   "outputs": [],
   "source": [
    "s = sim()"
   ]
  },
  {
   "cell_type": "code",
   "execution_count": 9,
   "metadata": {},
   "outputs": [],
   "source": [
    "s.activate()"
   ]
  },
  {
   "cell_type": "code",
   "execution_count": 10,
   "metadata": {},
   "outputs": [
    {
     "name": "stdout",
     "output_type": "stream",
     "text": [
      "Name : Shiva\n",
      "Number: 7313361845\n",
      "Balance : 50\n"
     ]
    }
   ],
   "source": [
    "s.viewDetails()"
   ]
  },
  {
   "cell_type": "code",
   "execution_count": 11,
   "metadata": {},
   "outputs": [],
   "source": [
    "import random\n",
    "class sim:\n",
    "    name=None\n",
    "    mobile=None\n",
    "    identity_proof = None\n",
    "    balance =None\n",
    "\n",
    "    def __init__(self):\n",
    "        self.name = input(\"Enter your Name\")\n",
    "        self.identity_proof = input(\"enter your identity proof\")\n",
    "        self.mobile = random.randint(6000000000,9999999999)\n",
    "        self.balance = 50\n",
    "    \n",
    "    def viewDetails(self):\n",
    "        print(\"Name :\",self.name)\n",
    "        print(\"Number:\",self.mobile)\n",
    "        print(\"Balance :\",self.balance)"
   ]
  },
  {
   "cell_type": "code",
   "execution_count": 12,
   "metadata": {},
   "outputs": [],
   "source": [
    "s = sim()"
   ]
  },
  {
   "cell_type": "code",
   "execution_count": 13,
   "metadata": {},
   "outputs": [
    {
     "name": "stdout",
     "output_type": "stream",
     "text": [
      "Name : dishan\n",
      "Number: 7413265565\n",
      "Balance : 50\n"
     ]
    }
   ],
   "source": [
    "s.viewDetails()"
   ]
  },
  {
   "cell_type": "code",
   "execution_count": 25,
   "metadata": {},
   "outputs": [],
   "source": [
    "import random\n",
    "class sim:\n",
    "    name=None\n",
    "    mobile=None\n",
    "    identity_proof = None\n",
    "    balance =None\n",
    "\n",
    "    def __init__(self):\n",
    "        self.name = input(\"Enter your Name\")\n",
    "        self.identity_proof = input(\"enter your identity proof\")\n",
    "        self.mobile = random.randint(6000000000,9999999999)\n",
    "        self.balance = 50\n",
    "    \n",
    "    def viewDetails(self):\n",
    "        print(\"Name :\",self.name)\n",
    "        print(\"Number:\",self.mobile)\n",
    "        print(\"Balance :\",self.balance)\n",
    "\n",
    "class communication(sim):\n",
    "    def call(self,sim):\n",
    "        print(\"calling to\",sim.mobile)\n",
    "        self.balance -= 1\n",
    "    def message(self,sim):\n",
    "        print(\"texting to\",sim.mobile)\n",
    "        self.balance -= .5\n",
    "    "
   ]
  },
  {
   "cell_type": "code",
   "execution_count": 27,
   "metadata": {},
   "outputs": [],
   "source": [
    "d = communication()"
   ]
  },
  {
   "cell_type": "code",
   "execution_count": 28,
   "metadata": {},
   "outputs": [],
   "source": [
    "s = communication()"
   ]
  },
  {
   "cell_type": "code",
   "execution_count": 29,
   "metadata": {},
   "outputs": [
    {
     "name": "stdout",
     "output_type": "stream",
     "text": [
      "Name : shiva\n",
      "Number: 6160917057\n",
      "Balance : 50\n"
     ]
    }
   ],
   "source": [
    "s.viewDetails()"
   ]
  },
  {
   "cell_type": "code",
   "execution_count": 30,
   "metadata": {},
   "outputs": [
    {
     "name": "stdout",
     "output_type": "stream",
     "text": [
      "Name : dishan\n",
      "Number: 9302431894\n",
      "Balance : 50\n"
     ]
    }
   ],
   "source": [
    "d.viewDetails()"
   ]
  },
  {
   "cell_type": "code",
   "execution_count": 31,
   "metadata": {},
   "outputs": [
    {
     "name": "stdout",
     "output_type": "stream",
     "text": [
      "calling to 9302431894\n"
     ]
    }
   ],
   "source": [
    "s.call(d)"
   ]
  },
  {
   "cell_type": "code",
   "execution_count": 32,
   "metadata": {},
   "outputs": [
    {
     "name": "stdout",
     "output_type": "stream",
     "text": [
      "Name : shiva\n",
      "Number: 6160917057\n",
      "Balance : 49\n"
     ]
    }
   ],
   "source": [
    "s.viewDetails()"
   ]
  },
  {
   "cell_type": "code",
   "execution_count": 33,
   "metadata": {},
   "outputs": [
    {
     "name": "stdout",
     "output_type": "stream",
     "text": [
      "texting to 6160917057\n"
     ]
    }
   ],
   "source": [
    "d.message(s)"
   ]
  },
  {
   "cell_type": "code",
   "execution_count": 34,
   "metadata": {},
   "outputs": [
    {
     "name": "stdout",
     "output_type": "stream",
     "text": [
      "Name : dishan\n",
      "Number: 9302431894\n",
      "Balance : 49.5\n"
     ]
    }
   ],
   "source": [
    "d.viewDetails()"
   ]
  },
  {
   "cell_type": "code",
   "execution_count": null,
   "metadata": {},
   "outputs": [],
   "source": []
  }
 ],
 "metadata": {
  "kernelspec": {
   "display_name": "base",
   "language": "python",
   "name": "python3"
  },
  "language_info": {
   "codemirror_mode": {
    "name": "ipython",
    "version": 3
   },
   "file_extension": ".py",
   "mimetype": "text/x-python",
   "name": "python",
   "nbconvert_exporter": "python",
   "pygments_lexer": "ipython3",
   "version": "3.12.7"
  }
 },
 "nbformat": 4,
 "nbformat_minor": 2
}
